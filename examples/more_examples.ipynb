{
 "metadata": {
  "name": "",
  "signature": "sha256:109f776dd96aa6f98a92c4735f730bdebdd066f74fc9b6c76e0292a96379ed1d"
 },
 "nbformat": 3,
 "nbformat_minor": 0,
 "worksheets": [
  {
   "cells": [
    {
     "cell_type": "code",
     "collapsed": false,
     "input": [
      "import sollya"
     ],
     "language": "python",
     "metadata": {},
     "outputs": [],
     "prompt_number": 2
    },
    {
     "cell_type": "code",
     "collapsed": false,
     "input": [
      "dir(sollya)"
     ],
     "language": "python",
     "metadata": {},
     "outputs": [
      {
       "metadata": {},
       "output_type": "pyout",
       "prompt_number": 3,
       "text": [
        "['Interval',\n",
        " 'RD',\n",
        " 'RN',\n",
        " 'RU',\n",
        " 'RZ',\n",
        " 'S2',\n",
        " 'SollyaObject',\n",
        " 'SollyaOperator',\n",
        " 'SollyaStructureWrapper',\n",
        " '__Settings',\n",
        " '__builtin__',\n",
        " '__builtins__',\n",
        " '__displayhook',\n",
        " '__doc__',\n",
        " '__file__',\n",
        " '__name__',\n",
        " '__package__',\n",
        " '__test__',\n",
        " '_print_backtraces',\n",
        " '_x_',\n",
        " 'absolute',\n",
        " 'acos',\n",
        " 'acosh',\n",
        " 'annotatefunction',\n",
        " 'append',\n",
        " 'approx',\n",
        " 'asciiplot',\n",
        " 'asin',\n",
        " 'asinh',\n",
        " 'atan',\n",
        " 'atanh',\n",
        " 'atexit',\n",
        " 'autodiff',\n",
        " 'autoprint',\n",
        " 'bashevaluate',\n",
        " 'bashexecute',\n",
        " 'binary',\n",
        " 'binary128',\n",
        " 'binary16',\n",
        " 'binary32',\n",
        " 'binary64',\n",
        " 'binary80',\n",
        " 'canonical',\n",
        " 'ceil',\n",
        " 'chebyshevform',\n",
        " 'checkinfnorm',\n",
        " 'coeff',\n",
        " 'collections',\n",
        " 'composepolynomials',\n",
        " 'cos',\n",
        " 'cosh',\n",
        " 'decimal',\n",
        " 'default',\n",
        " 'degree',\n",
        " 'denominator',\n",
        " 'diff',\n",
        " 'dirtyfindzeros',\n",
        " 'dirtyinfnorm',\n",
        " 'dirtyintegral',\n",
        " 'dirtysimplify',\n",
        " 'double',\n",
        " 'double_double',\n",
        " 'doubledouble',\n",
        " 'doubleextended',\n",
        " 'dyadic',\n",
        " 'erf',\n",
        " 'erfc',\n",
        " 'error',\n",
        " 'evaluate',\n",
        " 'execute',\n",
        " 'exp',\n",
        " 'expand',\n",
        " 'expm1',\n",
        " 'exponent',\n",
        " 'externalplot',\n",
        " 'file',\n",
        " 'findzeros',\n",
        " 'fixed',\n",
        " 'floating',\n",
        " 'floor',\n",
        " 'fpminimax',\n",
        " 'function',\n",
        " 'getbacktrace',\n",
        " 'getsuppressedmessages',\n",
        " 'guessdegree',\n",
        " 'halfprecision',\n",
        " 'head',\n",
        " 'hexadecimal',\n",
        " 'horner',\n",
        " 'implementconstant',\n",
        " 'implementpoly',\n",
        " 'inf',\n",
        " 'infnorm',\n",
        " 'inspect',\n",
        " 'integral',\n",
        " 'itertools',\n",
        " 'length',\n",
        " 'libraryconstant',\n",
        " 'log',\n",
        " 'log10',\n",
        " 'log1p',\n",
        " 'log2',\n",
        " 'mantissa',\n",
        " 'max',\n",
        " 'mid',\n",
        " 'min',\n",
        " 'nearestint',\n",
        " 'numberroots',\n",
        " 'numerator',\n",
        " 'objectname',\n",
        " 'off',\n",
        " 'on',\n",
        " 'parse',\n",
        " 'perturb',\n",
        " 'pi',\n",
        " 'plot',\n",
        " 'postscript',\n",
        " 'postscriptfile',\n",
        " 'powers',\n",
        " 'precision',\n",
        " 'prepend',\n",
        " 'printdouble',\n",
        " 'printexpansion',\n",
        " 'printsingle',\n",
        " 'printxml',\n",
        " 'quad',\n",
        " 'rationalapprox',\n",
        " 'readxml',\n",
        " 'relative',\n",
        " 'remez',\n",
        " 'revert',\n",
        " 'round',\n",
        " 'roundcoefficients',\n",
        " 'roundcorrectly',\n",
        " 'searchgal',\n",
        " 'settings',\n",
        " 'simplify',\n",
        " 'sin',\n",
        " 'single',\n",
        " 'sinh',\n",
        " 'sort',\n",
        " 'sqrt',\n",
        " 'subpoly',\n",
        " 'substitute',\n",
        " 'sup',\n",
        " 'supnorm',\n",
        " 'suppressmessage',\n",
        " 'sys',\n",
        " 'tail',\n",
        " 'tan',\n",
        " 'tanh',\n",
        " 'taylor',\n",
        " 'taylorform',\n",
        " 'traceback',\n",
        " 'triple_double',\n",
        " 'tripledouble',\n",
        " 'types',\n",
        " 'unsuppressmessage',\n",
        " 'warnings',\n",
        " 'x']"
       ]
      }
     ],
     "prompt_number": 3
    },
    {
     "cell_type": "code",
     "collapsed": false,
     "input": [
      "sollya.SollyaObject(42) + 17"
     ],
     "language": "python",
     "metadata": {},
     "outputs": [
      {
       "metadata": {},
       "output_type": "pyout",
       "prompt_number": 5,
       "text": [
        "59"
       ]
      }
     ],
     "prompt_number": 5
    },
    {
     "cell_type": "code",
     "collapsed": false,
     "input": [
      "type(_)"
     ],
     "language": "python",
     "metadata": {},
     "outputs": [
      {
       "metadata": {},
       "output_type": "pyout",
       "prompt_number": 6,
       "text": [
        "sollya.SollyaObject"
       ]
      }
     ],
     "prompt_number": 6
    },
    {
     "cell_type": "code",
     "collapsed": false,
     "input": [
      "int(sollya.SollyaObject(42) + 17)"
     ],
     "language": "python",
     "metadata": {},
     "outputs": [
      {
       "metadata": {},
       "output_type": "pyout",
       "prompt_number": 7,
       "text": [
        "59"
       ]
      }
     ],
     "prompt_number": 7
    },
    {
     "cell_type": "code",
     "collapsed": false,
     "input": [
      "sollya.sin(1)\n",
      "# terminal: sys.displayhook = sollya.autoprint"
     ],
     "language": "python",
     "metadata": {},
     "outputs": [
      {
       "metadata": {},
       "output_type": "pyout",
       "prompt_number": 8,
       "text": [
        "sin(1)"
       ]
      }
     ],
     "prompt_number": 8
    },
    {
     "cell_type": "code",
     "collapsed": false,
     "input": [
      "from sollya import *"
     ],
     "language": "python",
     "metadata": {},
     "outputs": [],
     "prompt_number": 9
    },
    {
     "cell_type": "code",
     "collapsed": false,
     "input": [
      "p = parse\n",
      "sin(Interval(p(\"0.1\")))"
     ],
     "language": "python",
     "metadata": {},
     "outputs": [
      {
       "output_type": "stream",
       "stream": "stderr",
       "text": [
        "A rounding occurred while reading a constant\n"
       ]
      },
      {
       "metadata": {},
       "output_type": "pyout",
       "prompt_number": 10,
       "text": [
        "[9.9833416646828152306814198410622026989915388017983e-2;9.9833416646828152306814198410622026989915388017986e-2]"
       ]
      }
     ],
     "prompt_number": 10
    },
    {
     "cell_type": "code",
     "collapsed": false,
     "input": [
      "f = sin(1 + exp(sollya._x_))\n",
      "evaluate(f, 4)"
     ],
     "language": "python",
     "metadata": {},
     "outputs": [
      {
       "metadata": {},
       "output_type": "pyout",
       "prompt_number": 11,
       "text": [
        "-0.81371655140175448871553013334315708186522755964095"
       ]
      }
     ],
     "prompt_number": 11
    },
    {
     "cell_type": "code",
     "collapsed": false,
     "input": [
      "f"
     ],
     "language": "python",
     "metadata": {},
     "outputs": [
      {
       "metadata": {},
       "output_type": "pyout",
       "prompt_number": 12,
       "text": [
        "sin(1 + exp(_x_))"
       ]
      }
     ],
     "prompt_number": 12
    },
    {
     "cell_type": "code",
     "collapsed": false,
     "input": [
      "fp = diff(f)\n",
      "fp(0)"
     ],
     "language": "python",
     "metadata": {},
     "outputs": [
      {
       "metadata": {},
       "output_type": "pyout",
       "prompt_number": 13,
       "text": [
        "cos(2)"
       ]
      }
     ],
     "prompt_number": 13
    },
    {
     "cell_type": "code",
     "collapsed": false,
     "input": [
      "g = sin(cos(x/3) - 1)\n",
      "g((2)**(parse(\"-3000\"))).approx()"
     ],
     "language": "python",
     "metadata": {},
     "outputs": [
      {
       "metadata": {},
       "output_type": "pyout",
       "prompt_number": 14,
       "text": [
        "-3.6707390421142527733796653495536131777290030585503e-1808"
       ]
      }
     ],
     "prompt_number": 14
    },
    {
     "cell_type": "code",
     "collapsed": false,
     "input": [
      "Interval(2, 3) + Interval(4, 5)"
     ],
     "language": "python",
     "metadata": {},
     "outputs": [
      {
       "metadata": {},
       "output_type": "pyout",
       "prompt_number": 15,
       "text": [
        "[6;8]"
       ]
      }
     ],
     "prompt_number": 15
    },
    {
     "cell_type": "code",
     "collapsed": false,
     "input": [
      "sin(Interval(-3, 0.5))"
     ],
     "language": "python",
     "metadata": {},
     "outputs": [
      {
       "metadata": {},
       "output_type": "pyout",
       "prompt_number": 16,
       "text": [
        "[-1;0.4794255386042030002732879352155713880818033679406]"
       ]
      }
     ],
     "prompt_number": 16
    },
    {
     "cell_type": "code",
     "collapsed": false,
     "input": [
      "f = x - sin(x)\n",
      "f(Interval(-2**(-5), 2**(-5)))"
     ],
     "language": "python",
     "metadata": {},
     "outputs": [
      {
       "metadata": {},
       "output_type": "pyout",
       "prompt_number": 17,
       "text": [
        "[-5.0860146739212604188787425355353739218812010691378e-6;5.0860146739212604188787425355353739218812010691378e-6]"
       ]
      }
     ],
     "prompt_number": 17
    },
    {
     "cell_type": "code",
     "collapsed": false,
     "input": [
      "sollya.settings.prec"
     ],
     "language": "python",
     "metadata": {},
     "outputs": [
      {
       "metadata": {},
       "output_type": "pyout",
       "prompt_number": 18,
       "text": [
        "165"
       ]
      }
     ],
     "prompt_number": 18
    },
    {
     "cell_type": "code",
     "collapsed": false,
     "input": [
      "f = sin(cos(x/3) - 1)\n",
      "f(1).approx()"
     ],
     "language": "python",
     "metadata": {},
     "outputs": [
      {
       "metadata": {},
       "output_type": "pyout",
       "prompt_number": 19,
       "text": [
        "-5.501526355908266391152772814019516251695908603806e-2"
       ]
      }
     ],
     "prompt_number": 19
    },
    {
     "cell_type": "code",
     "collapsed": false,
     "input": [
      "sollya.settings.prec = 1000\n",
      "f(1).approx()"
     ],
     "language": "python",
     "metadata": {},
     "outputs": [
      {
       "metadata": {},
       "output_type": "pyout",
       "prompt_number": 20,
       "text": [
        "-5.501526355908266391152772814019516251695908603805905088725075252049985504528317579852395927511980192277611652640495829333507662997685389596204298153802812709307542580858728755496284042230877769757369477459165543247482676358999029132617139095509066958794105199781707261616997622409598671121861981853163e-2"
       ]
      }
     ],
     "prompt_number": 20
    },
    {
     "cell_type": "code",
     "collapsed": false,
     "input": [
      "sollya.settings.prec = default"
     ],
     "language": "python",
     "metadata": {},
     "outputs": [],
     "prompt_number": 21
    },
    {
     "cell_type": "code",
     "collapsed": false,
     "input": [
      "a = log2(17)/log2(13)\n",
      "b = log(17)/log(13)\n",
      "(a - b).approx()"
     ],
     "language": "python",
     "metadata": {},
     "outputs": [
      {
       "output_type": "stream",
       "stream": "stderr",
       "text": [
        "An expression should be constant in a context and faithful evaluation is not possible. Taking zero\n"
       ]
      },
      {
       "metadata": {},
       "output_type": "pyout",
       "prompt_number": 23,
       "text": [
        "0"
       ]
      }
     ],
     "prompt_number": 23
    },
    {
     "cell_type": "code",
     "collapsed": false,
     "input": [
      "sollya.settings.display"
     ],
     "language": "python",
     "metadata": {},
     "outputs": [
      {
       "metadata": {},
       "output_type": "pyout",
       "prompt_number": 24,
       "text": [
        "decimal"
       ]
      }
     ],
     "prompt_number": 24
    },
    {
     "cell_type": "code",
     "collapsed": false,
     "input": [
      "sollya.settings.display = binary\n",
      "SollyaObject(17.25)"
     ],
     "language": "python",
     "metadata": {},
     "outputs": [
      {
       "metadata": {},
       "output_type": "pyout",
       "prompt_number": 25,
       "text": [
        "1.000101_2 * 2^(4)"
       ]
      }
     ],
     "prompt_number": 25
    },
    {
     "cell_type": "code",
     "collapsed": false,
     "input": [
      "del sollya.settings.display\n",
      "sollya.settings.display"
     ],
     "language": "python",
     "metadata": {},
     "outputs": [
      {
       "metadata": {},
       "output_type": "pyout",
       "prompt_number": 26,
       "text": [
        "decimal"
       ]
      }
     ],
     "prompt_number": 26
    },
    {
     "cell_type": "code",
     "collapsed": false,
     "input": [
      "printdouble(17.25) # en console"
     ],
     "language": "python",
     "metadata": {},
     "outputs": [],
     "prompt_number": 27
    },
    {
     "cell_type": "code",
     "collapsed": false,
     "input": [
      "parse(\"0x3ff00000cafebabe\")"
     ],
     "language": "python",
     "metadata": {},
     "outputs": [
      {
       "metadata": {},
       "output_type": "pyout",
       "prompt_number": 28,
       "text": [
        "1.00000075621544182169486703060101717710494995117187"
       ]
      }
     ],
     "prompt_number": 28
    },
    {
     "cell_type": "code",
     "collapsed": false,
     "input": [
      "s = SollyaObject(\"Hello world\")\n",
      "t = SollyaObject(\"Salut les copains\")\n",
      "s"
     ],
     "language": "python",
     "metadata": {},
     "outputs": [
      {
       "metadata": {},
       "output_type": "pyout",
       "prompt_number": 29,
       "text": [
        "Hello world"
       ]
      }
     ],
     "prompt_number": 29
    },
    {
     "cell_type": "code",
     "collapsed": false,
     "input": [
      "str(s) + \" --- \" + str(t)"
     ],
     "language": "python",
     "metadata": {},
     "outputs": [
      {
       "metadata": {},
       "output_type": "pyout",
       "prompt_number": 30,
       "text": [
        "'Hello world --- Salut les copains'"
       ]
      }
     ],
     "prompt_number": 30
    },
    {
     "cell_type": "code",
     "collapsed": false,
     "input": [
      "str(s)[4]"
     ],
     "language": "python",
     "metadata": {},
     "outputs": [
      {
       "metadata": {},
       "output_type": "pyout",
       "prompt_number": 31,
       "text": [
        "'o'"
       ]
      }
     ],
     "prompt_number": 31
    },
    {
     "cell_type": "code",
     "collapsed": false,
     "input": [
      "SollyaObject(True)"
     ],
     "language": "python",
     "metadata": {},
     "outputs": [
      {
       "metadata": {},
       "output_type": "pyout",
       "prompt_number": 32,
       "text": [
        "true"
       ]
      }
     ],
     "prompt_number": 32
    },
    {
     "cell_type": "code",
     "collapsed": false,
     "input": [
      "if SollyaObject(True): print \"a\"\n",
      "if SollyaObject(False): print \"b\""
     ],
     "language": "python",
     "metadata": {},
     "outputs": [
      {
       "output_type": "stream",
       "stream": "stdout",
       "text": [
        "a\n"
       ]
      }
     ],
     "prompt_number": 33
    },
    {
     "cell_type": "code",
     "collapsed": false,
     "input": [
      "exp(17) < 2**42"
     ],
     "language": "python",
     "metadata": {},
     "outputs": [
      {
       "metadata": {},
       "output_type": "pyout",
       "prompt_number": 34,
       "text": [
        "True"
       ]
      }
     ],
     "prompt_number": 34
    },
    {
     "cell_type": "code",
     "collapsed": false,
     "input": [
      "1 + x + x**2 == 1 + x + x**2"
     ],
     "language": "python",
     "metadata": {},
     "outputs": [
      {
       "metadata": {},
       "output_type": "pyout",
       "prompt_number": 35,
       "text": [
        "True"
       ]
      }
     ],
     "prompt_number": 35
    },
    {
     "cell_type": "code",
     "collapsed": false,
     "input": [
      "SollyaObject(\"Salut\") == \"Salut\", SollyaObject(\"Salut\") == \"Privet\""
     ],
     "language": "python",
     "metadata": {},
     "outputs": [
      {
       "metadata": {},
       "output_type": "pyout",
       "prompt_number": 36,
       "text": [
        "(True, False)"
       ]
      }
     ],
     "prompt_number": 36
    },
    {
     "cell_type": "code",
     "collapsed": false,
     "input": [
      "l = SollyaObject([1, 2, 3, \"Coucou\", exp(x)])\n",
      "l"
     ],
     "language": "python",
     "metadata": {},
     "outputs": [
      {
       "metadata": {},
       "output_type": "pyout",
       "prompt_number": 37,
       "text": [
        "[|1, 2, 3, \"Coucou\", exp(_x_)|]"
       ]
      }
     ],
     "prompt_number": 37
    },
    {
     "cell_type": "code",
     "collapsed": false,
     "input": [
      "[sin(x) + 1] + l"
     ],
     "language": "python",
     "metadata": {},
     "outputs": [
      {
       "metadata": {},
       "output_type": "pyout",
       "prompt_number": 38,
       "text": [
        "[sin(_x_) + 1, 1, 2, 3, Coucou, exp(_x_)]"
       ]
      }
     ],
     "prompt_number": 38
    },
    {
     "cell_type": "code",
     "collapsed": false,
     "input": [
      "tail(l)"
     ],
     "language": "python",
     "metadata": {},
     "outputs": [
      {
       "metadata": {},
       "output_type": "pyout",
       "prompt_number": 39,
       "text": [
        "[|2, 3, \"Coucou\", exp(_x_)|]"
       ]
      }
     ],
     "prompt_number": 39
    },
    {
     "cell_type": "code",
     "collapsed": false,
     "input": [
      "l[3]"
     ],
     "language": "python",
     "metadata": {},
     "outputs": [
      {
       "metadata": {},
       "output_type": "pyout",
       "prompt_number": 40,
       "text": [
        "Coucou"
       ]
      }
     ],
     "prompt_number": 40
    },
    {
     "cell_type": "code",
     "collapsed": false,
     "input": [
      "#l[3] = \"Fromage\""
     ],
     "language": "python",
     "metadata": {},
     "outputs": [],
     "prompt_number": 41
    },
    {
     "cell_type": "code",
     "collapsed": false,
     "input": [
      "SollyaObject(range(1, 18))"
     ],
     "language": "python",
     "metadata": {},
     "outputs": [
      {
       "metadata": {},
       "output_type": "pyout",
       "prompt_number": 42,
       "text": [
        "[|1, 2, 3, 4, 5, 6, 7, 8, 9, 10, 11, 12, 13, 14, 15, 16, 17|]"
       ]
      }
     ],
     "prompt_number": 42
    },
    {
     "cell_type": "code",
     "collapsed": false,
     "input": [
      "l = SollyaObject([\"Salut\", exp(x), 17, True, nearestint(exp(5)), Ellipsis])\n",
      "l[1520]"
     ],
     "language": "python",
     "metadata": {},
     "outputs": [
      {
       "metadata": {},
       "output_type": "pyout",
       "prompt_number": 43,
       "text": [
        "1664"
       ]
      }
     ],
     "prompt_number": 43
    },
    {
     "cell_type": "code",
     "collapsed": false,
     "input": [
      "a = SollyaObject({\n",
      "    \"f\": exp(x),\n",
      "    \"I\": Interval(-1, 1)\n",
      "})\n",
      "a"
     ],
     "language": "python",
     "metadata": {},
     "outputs": [
      {
       "metadata": {},
       "output_type": "pyout",
       "prompt_number": 44,
       "text": [
        "{ .f = exp(_x_), .I = [-1;1] }"
       ]
      }
     ],
     "prompt_number": 44
    },
    {
     "cell_type": "code",
     "collapsed": false,
     "input": [
      "a.struct.f"
     ],
     "language": "python",
     "metadata": {},
     "outputs": [
      {
       "metadata": {},
       "output_type": "pyout",
       "prompt_number": 45,
       "text": [
        "exp(_x_)"
       ]
      }
     ],
     "prompt_number": 45
    },
    {
     "cell_type": "code",
     "collapsed": false,
     "input": [
      "a.struct.I = Interval(-2, 2)\n",
      "a.struct.accuracy = 2**-45\n",
      "a"
     ],
     "language": "python",
     "metadata": {},
     "outputs": [
      {
       "metadata": {},
       "output_type": "pyout",
       "prompt_number": 46,
       "text": [
        "{ .accuracy = 2.8421709430404007434844970703125e-14, .f = exp(_x_), .I = [-2;2] }"
       ]
      }
     ],
     "prompt_number": 46
    },
    {
     "cell_type": "code",
     "collapsed": false,
     "input": [
      "dict(a)"
     ],
     "language": "python",
     "metadata": {},
     "outputs": [
      {
       "metadata": {},
       "output_type": "pyout",
       "prompt_number": 47,
       "text": [
        "{'I': [-2;2], 'accuracy': 2.8421709430404007434844970703125e-14, 'f': exp(_x_)}"
       ]
      }
     ],
     "prompt_number": 47
    },
    {
     "cell_type": "code",
     "collapsed": false,
     "input": [
      "succ = parse(\"proc(i) { return i+1; };\")\n",
      "succ(1)"
     ],
     "language": "python",
     "metadata": {},
     "outputs": [
      {
       "metadata": {},
       "output_type": "pyout",
       "prompt_number": 48,
       "text": [
        "2"
       ]
      }
     ],
     "prompt_number": 48
    },
    {
     "cell_type": "code",
     "collapsed": false,
     "input": [
      "succ"
     ],
     "language": "python",
     "metadata": {},
     "outputs": [
      {
       "metadata": {},
       "output_type": "pyout",
       "prompt_number": 49,
       "text": [
        "proc(i)\n",
        "{\n",
        "nop;\n",
        "return (i) + (1);\n",
        "}"
       ]
      }
     ],
     "prompt_number": 49
    },
    {
     "cell_type": "code",
     "collapsed": false,
     "input": [
      "eval_at_one = parse(\"\"\"\n",
      "   proc(fun) {\n",
      "       return fun(1);\n",
      "   };\n",
      "\"\"\")\n",
      "\n",
      "def myfun(x):\n",
      "    return 2*x\n",
      "\n",
      "eval_at_one(myfun)"
     ],
     "language": "python",
     "metadata": {},
     "outputs": [
      {
       "metadata": {},
       "output_type": "pyout",
       "prompt_number": 50,
       "text": [
        "2"
       ]
      }
     ],
     "prompt_number": 50
    },
    {
     "cell_type": "code",
     "collapsed": false,
     "input": [
      "obj = exp(x)"
     ],
     "language": "python",
     "metadata": {},
     "outputs": [],
     "prompt_number": 51
    },
    {
     "cell_type": "code",
     "collapsed": false,
     "input": [
      "obj.is_list()"
     ],
     "language": "python",
     "metadata": {},
     "outputs": [
      {
       "metadata": {},
       "output_type": "pyout",
       "prompt_number": 52,
       "text": [
        "False"
       ]
      }
     ],
     "prompt_number": 52
    },
    {
     "cell_type": "code",
     "collapsed": false,
     "input": [
      "obj.is_function()"
     ],
     "language": "python",
     "metadata": {},
     "outputs": [
      {
       "metadata": {},
       "output_type": "pyout",
       "prompt_number": 53,
       "text": [
        "True"
       ]
      }
     ],
     "prompt_number": 53
    },
    {
     "cell_type": "code",
     "collapsed": false,
     "input": [
      "obj.operator()"
     ],
     "language": "python",
     "metadata": {},
     "outputs": [
      {
       "metadata": {},
       "output_type": "pyout",
       "prompt_number": 54,
       "text": [
        "EXP"
       ]
      }
     ],
     "prompt_number": 54
    },
    {
     "cell_type": "code",
     "collapsed": false,
     "input": [
      "obj.arity()"
     ],
     "language": "python",
     "metadata": {},
     "outputs": [
      {
       "metadata": {},
       "output_type": "pyout",
       "prompt_number": 55,
       "text": [
        "1"
       ]
      }
     ],
     "prompt_number": 55
    },
    {
     "cell_type": "code",
     "collapsed": false,
     "input": [
      "obj.operands()"
     ],
     "language": "python",
     "metadata": {},
     "outputs": [
      {
       "metadata": {},
       "output_type": "pyout",
       "prompt_number": 56,
       "text": [
        "[_x_]"
       ]
      }
     ],
     "prompt_number": 56
    },
    {
     "cell_type": "code",
     "collapsed": false,
     "input": [
      "def mymatcher(expr):\n",
      "    op = expr.operator()\n",
      "    if op == SollyaOperator('EXP'):\n",
      "        return 1\n",
      "    elif op == SollyaOperator('SIN'):\n",
      "        return 2\n",
      "    else:\n",
      "        return 3\n",
      "\n",
      "mymatcher(exp(x)), mymatcher(sin(x))"
     ],
     "language": "python",
     "metadata": {},
     "outputs": [
      {
       "metadata": {},
       "output_type": "pyout",
       "prompt_number": 57,
       "text": [
        "(1, 2)"
       ]
      }
     ],
     "prompt_number": 57
    },
    {
     "cell_type": "code",
     "collapsed": false,
     "input": [
      "def transform(expr):\n",
      "    op = expr.operator()\n",
      "    return op(*[sin(a) for a in expr.operands()])\n",
      "\n",
      "transform(x + exp(x))"
     ],
     "language": "python",
     "metadata": {},
     "outputs": [
      {
       "metadata": {},
       "output_type": "pyout",
       "prompt_number": 58,
       "text": [
        "sin(_x_) + sin(exp(_x_))"
       ]
      }
     ],
     "prompt_number": 58
    },
    {
     "cell_type": "code",
     "collapsed": false,
     "input": [
      "f = sin(cos(x/3) - 1)\n",
      "I = Interval(-1/4, 1/4)\n",
      "plot(f, I)"
     ],
     "language": "python",
     "metadata": {},
     "outputs": [],
     "prompt_number": 59
    },
    {
     "cell_type": "code",
     "collapsed": false,
     "input": [
      "p = remez(f, 5, I)\n",
      "delta = p - f\n",
      "plot(p - f, I)"
     ],
     "language": "python",
     "metadata": {},
     "outputs": [],
     "prompt_number": 60
    },
    {
     "cell_type": "code",
     "collapsed": false,
     "input": [
      "remez?"
     ],
     "language": "python",
     "metadata": {},
     "outputs": [],
     "prompt_number": 61
    },
    {
     "cell_type": "code",
     "collapsed": false,
     "input": [
      "def mypi(prec): return 3\n",
      "foo = libraryconstant(mypi)\n",
      "foo"
     ],
     "language": "python",
     "metadata": {},
     "outputs": [
      {
       "metadata": {},
       "output_type": "pyout",
       "prompt_number": 62,
       "text": [
        "mypi"
       ]
      }
     ],
     "prompt_number": 62
    },
    {
     "cell_type": "code",
     "collapsed": false,
     "input": [
      "foo.approx()"
     ],
     "language": "python",
     "metadata": {},
     "outputs": [
      {
       "metadata": {},
       "output_type": "pyout",
       "prompt_number": 63,
       "text": [
        "3"
       ]
      }
     ],
     "prompt_number": 63
    },
    {
     "cell_type": "code",
     "collapsed": false,
     "input": [],
     "language": "python",
     "metadata": {},
     "outputs": []
    }
   ],
   "metadata": {}
  }
 ]
}